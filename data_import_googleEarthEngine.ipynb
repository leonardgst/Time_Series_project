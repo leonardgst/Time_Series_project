{
  "nbformat": 4,
  "nbformat_minor": 0,
  "metadata": {
    "colab": {
      "provenance": []
    },
    "kernelspec": {
      "name": "python3",
      "display_name": "Python 3"
    },
    "language_info": {
      "name": "python"
    }
  },
  "cells": [
    {
      "cell_type": "code",
      "execution_count": null,
      "metadata": {
        "colab": {
          "base_uri": "https://localhost:8080/"
        },
        "id": "tad1rcSONziR",
        "outputId": "8f6ce4cc-649d-4aa0-d1d9-40be8e0ef88f"
      },
      "outputs": [
        {
          "output_type": "stream",
          "name": "stdout",
          "text": [
            "To authorize access needed by Earth Engine, open the following URL in a web browser and follow the instructions. If the web browser does not start automatically, please manually browse the URL below.\n",
            "\n",
            "    https://code.earthengine.google.com/client-auth?scopes=https%3A//www.googleapis.com/auth/earthengine%20https%3A//www.googleapis.com/auth/devstorage.full_control&request_id=XNMf7Uyg5hXoiRzPTxpzdVQ-8aOZ0TdLm4uJ0ixpaIA&tc=AnNME3x-Q-ynXXRVnrsVoCV9RzWgGwsdKYUQcCMcVsQ&cc=kQx3Svknj4vunflJFP3FfvleYODhLkUY4zHBhqAn3gE\n",
            "\n",
            "The authorization workflow will generate a code, which you should paste in the box below.\n",
            "Enter verification code: 4/1AfJohXl7-63Ufm817RVzYzabJkv-KTjXhb7bZ0SD4-vYnH0mI_FsIU0xkng\n",
            "\n",
            "Successfully saved authorization token.\n"
          ]
        }
      ],
      "source": [
        "## Import packages\n",
        "# EarthEngine\n",
        "import ee\n",
        "from ee import batch # for data importation\n",
        "# Data Manipulation\n",
        "import pandas as pd\n",
        "# Plot Manipulation\n",
        "import matplotlib.pyplot as plt\n",
        "\n",
        "## Connection to the Earth Engine (need personal account)\n",
        "ee.Authenticate()\n",
        "ee.Initialize()"
      ]
    },
    {
      "cell_type": "code",
      "source": [
        "# Define the time period\n",
        "start_date = '1980-01-01'\n",
        "end_date = '2023-01-01'\n",
        "\n",
        "# Create an ImageCollection for the ERA5-Land dataset.\n",
        "dataset = ee.ImageCollection('ECMWF/ERA5_LAND/DAILY_AGGR') \\\n",
        "            .filter(ee.Filter.date(start_date, end_date))\n",
        "dataset_region = ee.FeatureCollection(\"FAO/GAUL_SIMPLIFIED_500m/2015/level1\")\n",
        "region = dataset_region.filter(ee.Filter.Or(ee.Filter.eq(\"ADM0_NAME\", \"France\")))\n",
        "reg = region.geometry()\n",
        "\n",
        "# Select the 'evaporation_from_open_water_surfaces_excluding_oceans' band.\n",
        "# \"temperature_2m\", \"soil_temperature_level_1\", \"soil_temperature_level_4\", \"lake_bottom_temperature\", \"lake_ice_depth\", \"volumetric_soil_water_layer_1\", \"snow_depth\", \"surface_net_solar_radiation_sum\", \"evaporation_from_vegetation_transpiration_sum\", \"u_component_of_wind_10m\", \"v_component_of_wind_10m\", \"surface_pressure\", \"total_precipitation_sum\", \"\"\n",
        "total_precipitation = dataset.select('evaporation_from_bare_soil_sum')\n",
        "\n",
        "# Define your location. (Paris [2.3522, 48.8566])\n",
        "#location = ee.Geometry.Point([6.3166654, -10.7999968])\n",
        "\n",
        "# Function to calculate monthly sum.\n",
        "#def calc_daily_sum(img):\n",
        "#    date = img.date().format('YYYY-MM-dd')\n",
        "#    daily_img = img.reduceRegion(ee.Reducer.sum(), location, 1000).set('date', date)\n",
        "#    return ee.Feature(None, daily_img)\n",
        "\n",
        "def calc_daily_sum(img):\n",
        "    date = img.date().format('YYYY-MM-dd')\n",
        "    daily_img = img.reduceRegion(ee.Reducer.sum(), reg, 1000).set('date', date)\n",
        "    return ee.Feature(None, daily_img)\n",
        "\n",
        "# Apply the function to each image in the ImageCollection.\n",
        "daily_sum = total_precipitation.map(calc_daily_sum)\n",
        "\n",
        "# Convert the ImageCollection to a FeatureCollection.\n",
        "daily_sum_fc = ee.FeatureCollection(daily_sum)\n",
        "\n",
        "# Export the data to a CSV file.\n",
        "task_config = {\n",
        "    'collection': daily_sum_fc,\n",
        "    'description': 'daily_Sum_EvapSoil',\n",
        "    'folder': 'SeriesTempData',  # Replace with your Google Drive folder name\n",
        "    'fileFormat': 'csv'\n",
        "}\n",
        "\n",
        "task = ee.batch.Export.table.toDrive(**task_config)\n",
        "task.start()"
      ],
      "metadata": {
        "id": "T-EQPYwoRRLP"
      },
      "execution_count": null,
      "outputs": []
    },
    {
      "cell_type": "code",
      "source": [
        "task.status()"
      ],
      "metadata": {
        "colab": {
          "base_uri": "https://localhost:8080/"
        },
        "id": "kseTOWG3td0B",
        "outputId": "bd110cc9-938b-4c5f-cc88-d1f2aec67b43"
      },
      "execution_count": null,
      "outputs": [
        {
          "output_type": "execute_result",
          "data": {
            "text/plain": [
              "{'state': 'RUNNING',\n",
              " 'description': 'daily_Sum_EvapSoil',\n",
              " 'creation_timestamp_ms': 1701611346111,\n",
              " 'update_timestamp_ms': 1701611350990,\n",
              " 'start_timestamp_ms': 1701611350957,\n",
              " 'task_type': 'EXPORT_FEATURES',\n",
              " 'attempt': 1,\n",
              " 'id': '7FWBKDJGJIQ5HFSXQCTH7OUU',\n",
              " 'name': 'projects/earthengine-legacy/operations/7FWBKDJGJIQ5HFSXQCTH7OUU'}"
            ]
          },
          "metadata": {},
          "execution_count": 13
        }
      ]
    },
    {
      "cell_type": "code",
      "source": [
        "print(ee.batch.Task.list())"
      ],
      "metadata": {
        "colab": {
          "base_uri": "https://localhost:8080/"
        },
        "id": "0MYFEBTYgp7O",
        "outputId": "09bb1747-e920-4e2d-c9c5-67213225ac07"
      },
      "execution_count": null,
      "outputs": [
        {
          "output_type": "stream",
          "name": "stdout",
          "text": [
            "[<Task 4AYIMHRBZ6JPDP2QC5DZJSPS EXPORT_FEATURES: daily_Sum_EvapSoil (FAILED)>, <Task DLQXHGXFJRV5RWTEG3GYSY2J EXPORT_FEATURES: daily_Sum_Temp2M (COMPLETED)>, <Task YAHCPH5FWKXFPBUQ4GUGHLTU EXPORT_FEATURES: daily_Sum_TotPrecipitation (COMPLETED)>, <Task 2RGBDNJDV2PRBZPXIFQ3KUSZ EXPORT_FEATURES: daily_Sum_TotPrecipitation (COMPLETED)>, <Task K6T4TEOQMELFAVSH7PZ2KPYJ EXPORT_FEATURES: daily_Sum_SurfacePressure (COMPLETED)>, <Task 7PBJU6MSWM7QUNOSPOYNMPWZ EXPORT_FEATURES: daily_Sum_vWind (COMPLETED)>, <Task S2RHHHARJGKTFGL7WFMC4XPV EXPORT_FEATURES: daily_Sum_uWind (COMPLETED)>, <Task RS3V2PJFGNUMZZC2L3VCTREC EXPORT_FEATURES: daily_Sum_Radiation (COMPLETED)>, <Task NJGIJJDDKMPZSZBLDPMN5FDV EXPORT_FEATURES: daily_Sum_LakeBottomTemp (COMPLETED)>, <Task WEICWKS272F5CT7RPPNXRJVK EXPORT_FEATURES: daily_Sum_SoilTemp4 (COMPLETED)>, <Task JDGEKGU2HUK33ODBYF32YAWT EXPORT_FEATURES: daily_Sum_SoilTemp1 (COMPLETED)>, <Task FEWXKFF7XME6NOHS5PVZAPLC EXPORT_FEATURES: daily_Sum_SkinTemp (COMPLETED)>, <Task 5Y7Z55SY55SA4TV5AR7T5AEP EXPORT_FEATURES: daily_Sum_Temp2m (COMPLETED)>, <Task SWODAZF4V5T3QULJNKEJYMOS EXPORT_FEATURES: daily_Sum_Evap (COMPLETED)>, <Task DHIIBFIAB3JTHIOSDPBQ4L6V EXPORT_FEATURES: daily_Sum_Evap (FAILED)>, <Task 6473EAKBNU4GWGW2Z3TTLEIH EXPORT_FEATURES: daily_Sum_Sg (COMPLETED)>, <Task 3MJS7JVMK6SYVZHQKD4FQKH7 EXPORT_FEATURES: Monthly_Sum (COMPLETED)>, <Task KLNQKWWOAGHX3WIXNZPYF6JR EXPORT_FEATURES: Monthly_Sum (COMPLETED)>, <Task FACC3K7OCOOZWVF4MH7J34QO EXPORT_FEATURES: Monthly_Sum (COMPLETED)>, <Task Z5XQ4LH5UBKVB5ANZUGFL5ZC EXPORT_FEATURES: Monthly_Sum (COMPLETED)>, <Task ZLTUBPDNBUQH76CBB6TQTQAY EXPORT_FEATURES: Monthly_Sum (COMPLETED)>, <Task TE5DSZRNL52VPIZDPI6EZMJ5 EXPORT_FEATURES: Monthly_Sum (COMPLETED)>, <Task ECICTC2AV2GGYYBPCVLEMSLD EXPORT_FEATURES: Daily_Sum (COMPLETED)>]\n"
          ]
        }
      ]
    },
    {
      "cell_type": "code",
      "source": [
        "from google.colab import drive\n",
        "drive.mount('/content/drive', force_remount=True)"
      ],
      "metadata": {
        "colab": {
          "base_uri": "https://localhost:8080/"
        },
        "id": "dT9gvA-C9YPc",
        "outputId": "3101096f-6c1f-4096-a155-faf3037c655a"
      },
      "execution_count": null,
      "outputs": [
        {
          "output_type": "stream",
          "name": "stdout",
          "text": [
            "Mounted at /content/drive\n"
          ]
        }
      ]
    }
  ]
}