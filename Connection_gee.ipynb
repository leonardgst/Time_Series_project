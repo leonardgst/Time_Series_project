{
  "nbformat": 4,
  "nbformat_minor": 0,
  "metadata": {
    "colab": {
      "provenance": [],
      "authorship_tag": "ABX9TyMCTUdVXLS0Yb7BDj3Tly9L",
      "include_colab_link": true
    },
    "kernelspec": {
      "name": "python3",
      "display_name": "Python 3"
    },
    "language_info": {
      "name": "python"
    }
  },
  "cells": [
    {
      "cell_type": "markdown",
      "metadata": {
        "id": "view-in-github",
        "colab_type": "text"
      },
      "source": [
        "<a href=\"https://colab.research.google.com/github/leonardgst/Time_Series_project/blob/main/Connection_gee.ipynb\" target=\"_parent\"><img src=\"https://colab.research.google.com/assets/colab-badge.svg\" alt=\"Open In Colab\"/></a>"
      ]
    },
    {
      "cell_type": "code",
      "execution_count": 9,
      "metadata": {
        "colab": {
          "base_uri": "https://localhost:8080/"
        },
        "id": "tad1rcSONziR",
        "outputId": "bfc38b7b-78f1-4c8e-80cd-c7e9d69bdb16"
      },
      "outputs": [
        {
          "output_type": "stream",
          "name": "stdout",
          "text": [
            "To authorize access needed by Earth Engine, open the following URL in a web browser and follow the instructions. If the web browser does not start automatically, please manually browse the URL below.\n",
            "\n",
            "    https://code.earthengine.google.com/client-auth?scopes=https%3A//www.googleapis.com/auth/earthengine%20https%3A//www.googleapis.com/auth/devstorage.full_control&request_id=HU0bfIrcVW2UWcrLjOyo4xwG7LIe_QKOIf0reMrOOHU&tc=Y--MczK-m7y3TSAt5nHr-eEXVZFs5J9TcxKQp5B7x-w&cc=SgZzeD--6DZM3xJyRgJk5XZ9iXPEzEuofsHpvKc0nSg\n",
            "\n",
            "The authorization workflow will generate a code, which you should paste in the box below.\n",
            "Enter verification code: 4/1AfJohXnlGh3ZpSPgz9-SlX-FPcfVZZBLJWw2jkg773Y470Hr1Lcx_qEVwbg\n",
            "\n",
            "Successfully saved authorization token.\n"
          ]
        }
      ],
      "source": [
        "## Import packages\n",
        "# EarthEngine\n",
        "import ee\n",
        "# Data Manipulation\n",
        "import pandas as pd\n",
        "# Plot Manipulation\n",
        "import matplotlib.pyplot as plt\n",
        "\n",
        "## Connection to the Earth Engine (need personal account)\n",
        "ee.Authenticate()\n",
        "ee.Initialize()"
      ]
    },
    {
      "cell_type": "code",
      "source": [
        "dataset = ee.ImageCollection('NOAA/NWS/RTMA').filter(ee.Filter.date('2018-03-01', '2018-03-02'))"
      ],
      "metadata": {
        "id": "T-EQPYwoRRLP"
      },
      "execution_count": 10,
      "outputs": []
    },
    {
      "cell_type": "code",
      "source": [],
      "metadata": {
        "id": "-M-VIsUwU7__"
      },
      "execution_count": null,
      "outputs": []
    }
  ]
}